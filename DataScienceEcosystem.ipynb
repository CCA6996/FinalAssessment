{
  "metadata": {
    "kernelspec": {
      "name": "python",
      "display_name": "Python (Pyodide)",
      "language": "python"
    },
    "language_info": {
      "codemirror_mode": {
        "name": "python",
        "version": 3
      },
      "file_extension": ".py",
      "mimetype": "text/x-python",
      "name": "python",
      "nbconvert_exporter": "python",
      "pygments_lexer": "ipython3",
      "version": "3.8"
    }
  },
  "nbformat_minor": 4,
  "nbformat": 4,
  "cells": [
    {
      "cell_type": "markdown",
      "source": "## DataScienceEcosystem",
      "metadata": {}
    },
    {
      "cell_type": "markdown",
      "source": "**En este cuaderno, se resumen las herramientas y ecosistemas de ciencia de datos**",
      "metadata": {
        "tags": [],
        "editable": true,
        "slideshow": {
          "slide_type": ""
        }
      }
    },
    {
      "cell_type": "markdown",
      "source": "**Objetivos:**",
      "metadata": {}
    },
    {
      "cell_type": "markdown",
      "source": "+ Listar lenguajes populares para Ciencia de Datos\n+ Listar Bibliotecas utilizadas por los científicos de Datos\n+ Evaluación de expresiones aritméticas en Python\n+ Conversión de minutos a horas",
      "metadata": {}
    },
    {
      "cell_type": "markdown",
      "source": "***Algunos de los lenguajes populares que utilizan los científicos de datos son:***",
      "metadata": {}
    },
    {
      "cell_type": "markdown",
      "source": "| Lenguajes de programacion |\n| ------------------------- |\n| Python                    |\n| R                         |\n| SQL                       |\n| Java                      |",
      "metadata": {}
    },
    {
      "cell_type": "markdown",
      "source": "***Algunas de las bibliotecas comúnmente utilizadas por los científicos de datos incluyen:***",
      "metadata": {}
    },
    {
      "cell_type": "markdown",
      "source": "| Libraries    |\n| ------------ |\n| Pandas       |\n| NumPy        |\n| Scikit-learn |\n| Matplotlib   |",
      "metadata": {}
    },
    {
      "cell_type": "markdown",
      "source": "| Herramientas de Ciencia de Datos |\n| -------------------------------- |\n| Visual Studio                    |\n| Juoyter Notebook                 |\n| GoogleColab                      |\n",
      "metadata": {}
    },
    {
      "cell_type": "markdown",
      "source": "### A continuación, se presentan algunos ejemplos de evaluación de expresiones aritméticas en Python",
      "metadata": {}
    },
    {
      "cell_type": "markdown",
      "source": "$ 15 +5 , 15 - 5 , 15 * 5 , 15 / 5$\n",
      "metadata": {}
    },
    {
      "cell_type": "markdown",
      "source": "### Esta es una expresión aritmética simple para multiplicar y luego sumar enteros",
      "metadata": {}
    },
    {
      "cell_type": "code",
      "source": "(3*4)+5",
      "metadata": {
        "trusted": true
      },
      "outputs": [
        {
          "execution_count": 2,
          "output_type": "execute_result",
          "data": {
            "text/plain": "17"
          },
          "metadata": {}
        }
      ],
      "execution_count": 2
    },
    {
      "cell_type": "markdown",
      "source": "***Esto convertirá 200 minutos a horas dividiendo por 60.***",
      "metadata": {}
    },
    {
      "cell_type": "code",
      "source": "# Definir los minutos\nminutos = 200\n# Convertir los minutos a horas dividiendo por 60\nhoras = minutos / 60\n# Mostrar el resultado print(\"200 minutos son\", horas, \"horas.\")\n",
      "metadata": {
        "trusted": true
      },
      "outputs": [],
      "execution_count": 8
    },
    {
      "cell_type": "code",
      "source": "200, horas",
      "metadata": {
        "trusted": true
      },
      "outputs": [
        {
          "execution_count": 9,
          "output_type": "execute_result",
          "data": {
            "text/plain": "(200, 3.3333333333333335)"
          },
          "metadata": {}
        }
      ],
      "execution_count": 9
    },
    {
      "cell_type": "markdown",
      "source": "## Autor\nMaria Cristina Calvo",
      "metadata": {}
    }
  ]
}